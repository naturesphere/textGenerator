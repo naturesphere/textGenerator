{
 "cells": [
  {
   "cell_type": "code",
   "execution_count": 26,
   "metadata": {},
   "outputs": [
    {
     "name": "stdout",
     "output_type": "stream",
     "text": [
      "56\n"
     ]
    }
   ],
   "source": [
    "import numpy as np, tflearn, sys, tensorflow as tf\n",
    "from tensorflow.contrib.keras.python.keras.utils import np_utils\n",
    "\n",
    "filename = \"wonderland.txt\"\n",
    "raw_text = open(filename,'r',encoding = 'utf-8').read()\n",
    "raw_text = raw_text.lower()\n",
    "chars = sorted(list(set(raw_text)))\n",
    "print(len(chars))"
   ]
  },
  {
   "cell_type": "code",
   "execution_count": null,
   "metadata": {},
   "outputs": [],
   "source": [
    "char2int = dict((char,ints) for ints, char in enumerate(chars))\n",
    "int2char = dict((ints,char) for ints, char in enumerate(chars))\n",
    "filename = 'mine'\n",
    "seqlen = 100\n",
    "lstmhid=320\n",
    "keeprate = 0.80\n",
    "train = []\n",
    "true = []\n",
    "tf.reset_default_graph()\n",
    "for i in range(0, len(raw_text)-seqlen, 1):\n",
    "    train.append([char2int[char] for char in raw_text[i:i+seqlen]])\n",
    "    true.append(char2int[raw_text[i+seqlen]])\n",
    "X = np.reshape(train,(len(train),seqlen,1))/float(len(chars))\n",
    "y = np_utils.to_categorical(true)"
   ]
  },
  {
   "cell_type": "code",
   "execution_count": null,
   "metadata": {},
   "outputs": [
    {
     "name": "stdout",
     "output_type": "stream",
     "text": [
      "Training Step: 840  | total loss: \u001b[1m\u001b[32m2.72418\u001b[0m\u001b[0m | time: 554.779s\n",
      "\u001b[2K\r",
      "| Adam | epoch: 002 | loss: 2.72418 -- iter: 47104/60378\n"
     ]
    }
   ],
   "source": [
    "net = tflearn.input_data(shape=(None,X.shape[1],X.shape[2]))\n",
    "net = tflearn.lstm(net,lstmhid)\n",
    "net = tflearn.fully_connected(net,y.shape[1],activation='softmax')\n",
    "net = tflearn.regression(net,optimizer='adam',learning_rate=0.005,loss='categorical_crossentropy')\n",
    "model = tflearn.DNN(net,checkpoint_path = 'checkpoints/model.tfl.ckpt')\n",
    "model.fit(X,y,snapshot_epoch=True,snapshot_step=5000,n_epoch=20,batch_size=128)\n",
    "model.save(filename)"
   ]
  },
  {
   "cell_type": "code",
   "execution_count": null,
   "metadata": {},
   "outputs": [],
   "source": [
    "model.load(filename)\n",
    "for _ in range(5):\n",
    "    p = train[np.random.randint(0,len(train)-1)]\n",
    "    print(\"Seed:\")\n",
    "    print(\"\\\"\",''.join([int2char[value] for value in p]), \"\\\"\")\n",
    "    print(\"\\n============================\\n\")\n",
    "    for _ in range(100):\n",
    "        tmp = np.argmax(model.predict((np.reshape(p, (1, len(p), 1))/float(len(chars)))))\n",
    "        sys.stdout.write((int2char[tmp]))\n",
    "        p.append(tmp)\n",
    "        p = p[1:len(p)]\n",
    "    print(\"\\n------------------------------\")"
   ]
  },
  {
   "cell_type": "code",
   "execution_count": null,
   "metadata": {
    "collapsed": true
   },
   "outputs": [],
   "source": []
  }
 ],
 "metadata": {
  "kernelspec": {
   "display_name": "Python 3",
   "language": "python",
   "name": "python3"
  },
  "language_info": {
   "codemirror_mode": {
    "name": "ipython",
    "version": 3
   },
   "file_extension": ".py",
   "mimetype": "text/x-python",
   "name": "python",
   "nbconvert_exporter": "python",
   "pygments_lexer": "ipython3",
   "version": "3.5.3"
  }
 },
 "nbformat": 4,
 "nbformat_minor": 2
}
